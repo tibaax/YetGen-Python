{
 "cells": [
  {
   "cell_type": "markdown",
   "metadata": {},
   "source": [
    "# print() fonksiyonu ne işe yarar?\n",
    "ekrana çıktı vermeyi sağlar.\n",
    "metinsel ifadeler *\"\"*  veya *\"* içinde yazılır"
   ]
  },
  {
   "cell_type": "code",
   "execution_count": 58,
   "metadata": {},
   "outputs": [
    {
     "name": "stdout",
     "output_type": "stream",
     "text": [
      "Hello world\n"
     ]
    }
   ],
   "source": [
    "print(\"Hello world\")"
   ]
  },
  {
   "cell_type": "code",
   "execution_count": 59,
   "metadata": {},
   "outputs": [
    {
     "name": "stdout",
     "output_type": "stream",
     "text": [
      "Hello world\n"
     ]
    }
   ],
   "source": [
    "print('Hello world')"
   ]
  },
  {
   "cell_type": "code",
   "execution_count": 60,
   "metadata": {},
   "outputs": [
    {
     "ename": "SyntaxError",
     "evalue": "unterminated string literal (detected at line 1) (171699862.py, line 1)",
     "output_type": "error",
     "traceback": [
      "\u001b[1;36m  Cell \u001b[1;32mIn[60], line 1\u001b[1;36m\u001b[0m\n\u001b[1;33m    print(\"\"\"Hello world\"\"\"\")\u001b[0m\n\u001b[1;37m                           ^\u001b[0m\n\u001b[1;31mSyntaxError\u001b[0m\u001b[1;31m:\u001b[0m unterminated string literal (detected at line 1)\n"
     ]
    }
   ],
   "source": [
    "print(\"\"\"Hello world\"\"\"\")"
   ]
  },
  {
   "cell_type": "code",
   "execution_count": null,
   "metadata": {},
   "outputs": [],
   "source": [
    "\"Hello Python\""
   ]
  },
  {
   "cell_type": "markdown",
   "metadata": {},
   "source": [
    "# print() fonksiyonu parametreleri\n",
    "\n",
    "## 1. sep\n",
    "\n",
    "-sep ifadesi, İngilizce'deki separator (ayırıcı,ayraç) kelimesinin kısaltmasıdır. Dolayısıyla da print() fonksiyonundaki bu sep parametresi ekrana basılacak öğeler arasına hangi karakterlerin yerleşeceğini gösterir. Kullanılmasının pek bir önemi yoktur, çünkü hep oradadır."
   ]
  },
  {
   "cell_type": "code",
   "execution_count": null,
   "metadata": {},
   "outputs": [],
   "source": [
    "print(\"Hello world\", \"hello\" ,sep=\",\")"
   ]
  },
  {
   "cell_type": "code",
   "execution_count": null,
   "metadata": {},
   "outputs": [],
   "source": [
    "print(\"Python\" , \"öğreniyorum\" , sep=\"\")"
   ]
  },
  {
   "cell_type": "code",
   "execution_count": null,
   "metadata": {},
   "outputs": [],
   "source": [
    "print(\"ANKARA\",\"İSTANBUL\",\"İZMİR\", sep=\"/\")"
   ]
  },
  {
   "cell_type": "markdown",
   "metadata": {},
   "source": [
    "# 2. END \n",
    "Tıpkı sep parametresi gibi, end parametresi de print() fonksiyonunda görünmese bile her zaman oradadır. end parametresi ise bu parametrelerin sonuna neyin geleceğini belirler."
   ]
  },
  {
   "cell_type": "code",
   "execution_count": null,
   "metadata": {},
   "outputs": [],
   "source": [
    "print(\"Yetgen Dikeyine Hoş Geldiniz\", end=\".\")"
   ]
  },
  {
   "cell_type": "code",
   "execution_count": null,
   "metadata": {},
   "outputs": [],
   "source": [
    "print(\"Pyhtona ilk adımı attım\", end=\"\")"
   ]
  },
  {
   "cell_type": "code",
   "execution_count": null,
   "metadata": {},
   "outputs": [],
   "source": [
    "print(\"pythona Hoş geldin\")"
   ]
  },
  {
   "cell_type": "markdown",
   "metadata": {},
   "source": [
    "Önemli noktalar ise, print() fonksiyonunda sözcük çıkartmak istersek tırnak içerisine almalıyız. Eğer fonksiyonun içine print(\"9.1\") tarzı bir sayı yazarsak tırnak içinde olduğundan dolayı o da bir sözcük olarak sayılacaktır. Fakat print(2.1) yazarsak sayı olarak anlaşılır ve direkt 2.1 olarak çıkartılır."
   ]
  },
  {
   "cell_type": "code",
   "execution_count": null,
   "metadata": {},
   "outputs": [],
   "source": [
    "print \"Hello World\""
   ]
  },
  {
   "cell_type": "markdown",
   "metadata": {},
   "source": [
    "Parantez kullanılmadığında parametreyi unuttun sayar, sytax error verir. "
   ]
  },
  {
   "cell_type": "code",
   "execution_count": null,
   "metadata": {},
   "outputs": [],
   "source": [
    "print(3.14)"
   ]
  },
  {
   "cell_type": "markdown",
   "metadata": {},
   "source": [
    "Sayısal ifadeleri tırnak işareti(\"\") olmadan yazabilirsin."
   ]
  },
  {
   "cell_type": "markdown",
   "metadata": {},
   "source": [
    "# Yorum Satırları\n",
    "- Python programlama dilinde eğer kodlama anında bir şey açıklama ihtiyacı duyduysak yukarıda örneğini verdiğim gibi # işareti ya da çoklu yorum satırları için de \"\"\" işaretini kullanırız."
   ]
  },
  {
   "cell_type": "code",
   "execution_count": null,
   "metadata": {},
   "outputs": [],
   "source": [
    "print(\"Ocak ayında hava çok soğuk\") #print() fonksiyonu ekrana baskı yapmayı sağlar."
   ]
  },
  {
   "cell_type": "markdown",
   "metadata": {},
   "source": [
    "# VARIABLES - DEĞİŞKENLER\n",
    "- Değişkenler bir verinin değerini saklamayı sağlar\n",
    "- Değişkenler verilerin sonradan değiştirilmesine olanak sağladığı için çok kullanuşlıdır.\n",
    "- Kodlar sırayla çalışır"
   ]
  },
  {
   "cell_type": "code",
   "execution_count": null,
   "metadata": {},
   "outputs": [],
   "source": [
    "print(\"Yetgen Jump\")\n",
    "print(\"Yetgen Jump\")\n",
    "print(\"Yetgen Jump\")"
   ]
  },
  {
   "cell_type": "markdown",
   "metadata": {},
   "source": [
    "# değişken ismi = atanacak değer , eşittir atama operatörüdür"
   ]
  },
  {
   "cell_type": "code",
   "execution_count": null,
   "metadata": {},
   "outputs": [],
   "source": [
    "yetgen = \"Yetgen Jump\"\n",
    "print(yetgen)\n",
    "print(yetgen)\n",
    "print(yetgen)"
   ]
  },
  {
   "cell_type": "markdown",
   "metadata": {},
   "source": [
    "# DEĞİŞKEN TANIMLAMA KURALLARI \n",
    "- Değişken adlarına sayılar, harfler ya da alt çizgi kullanılabilir. Ama değişken isimlendirmeleri alt çizgi ya da harfle başlar. 1tijda = 5 (hatalı) tijda1 = 5 (doğru) _tijdal = 5 (doğru)\n",
    "- Değişken adlandırılırken Türkçe karakter kullanılır.\n",
    "- Değişken adlandırılırken boşluk bırakılmaz.\n",
    "- Değişken isimlerinin adı Python için ayrılmış kelimelerden (if,elifi else vs.) oluşamaz. Ya da isimde - sembolü kullanılamaz.\n",
    "- Büyük küçük harf duyarlıdır"
   ]
  },
  {
   "cell_type": "code",
   "execution_count": null,
   "metadata": {},
   "outputs": [],
   "source": [
    "1tijda =\"Tijda\" #SyntaxError"
   ]
  },
  {
   "cell_type": "code",
   "execution_count": null,
   "metadata": {},
   "outputs": [],
   "source": [
    "tijda = \"Tijda\"\n",
    "_tijda = \"Tijda\"\n",
    "print(tijda)\n",
    "print(_tijda)"
   ]
  },
  {
   "cell_type": "code",
   "execution_count": null,
   "metadata": {},
   "outputs": [],
   "source": [
    "sayı = 5\n",
    "print(sayı)"
   ]
  },
  {
   "cell_type": "code",
   "execution_count": null,
   "metadata": {},
   "outputs": [],
   "source": [
    "isimSoyisim = \"Tijda Kırmızıgül\" #camel case DOĞRU KULLANIM\n",
    "isim_soyisim= \"Ali Aygül\" #snake case DORĞU KULLANIM\n",
    "isim soyisim=\"Çayan K\" #snake case hatalı kullanım\n",
    "print(isimSoyisim)\n",
    "print(isim_soyisim)\n",
    "print(isim soyisim)"
   ]
  },
  {
   "cell_type": "code",
   "execution_count": null,
   "metadata": {},
   "outputs": [],
   "source": [
    "isim = \"A\"\n",
    "Isim = \"B\"\n",
    "print(isim)\n",
    "print(Isim)"
   ]
  },
  {
   "cell_type": "code",
   "execution_count": null,
   "metadata": {},
   "outputs": [],
   "source": [
    "tijdanınArabasınınRengi = \"Mavi\"\n",
    "renk = \"Mavi\""
   ]
  },
  {
   "cell_type": "markdown",
   "metadata": {},
   "source": [
    "# type () Komutu\n",
    "\n",
    "- Bir değişkenin integer (tamsayı), float (ondalıklı), string (sözcük) ya da boolean olup olmadığını verir. Yani veri tipini verir."
   ]
  },
  {
   "cell_type": "code",
   "execution_count": null,
   "metadata": {},
   "outputs": [],
   "source": [
    "print(type(\"Tijda\"))"
   ]
  },
  {
   "cell_type": "code",
   "execution_count": null,
   "metadata": {},
   "outputs": [],
   "source": [
    "type(1)"
   ]
  },
  {
   "cell_type": "code",
   "execution_count": null,
   "metadata": {},
   "outputs": [],
   "source": [
    "type(True)"
   ]
  },
  {
   "cell_type": "code",
   "execution_count": null,
   "metadata": {},
   "outputs": [],
   "source": [
    "type(3.14)"
   ]
  },
  {
   "cell_type": "code",
   "execution_count": null,
   "metadata": {},
   "outputs": [],
   "source": [
    "print(type(1))\n",
    "print(type(True))\n",
    "print(type(3.14))"
   ]
  },
  {
   "cell_type": "markdown",
   "metadata": {},
   "source": [
    "# SAYI VERİ TÜRLERİ\n",
    "\n",
    "## int\n",
    "Tam sayılardır\n",
    "5, 10, 15\n",
    "\n",
    "## float\n",
    "ondalıklı sayılardır\n",
    "5.10 , 3.14\n",
    "\n",
    "Pyton 2 rakamı birbirine böldüğü zaman gerçek sonuca ulaşmak için float değer döndürür."
   ]
  },
  {
   "cell_type": "code",
   "execution_count": null,
   "metadata": {},
   "outputs": [],
   "source": [
    "print(type(3.14))\n",
    "print(type(9))"
   ]
  },
  {
   "cell_type": "markdown",
   "metadata": {},
   "source": [
    "# Matematiksel İşlemler\n",
    "## Aritmetik Operatörler\n",
    "Toplama (+)\n",
    "Çıkartma (-)\n",
    "Çarpma (*)\n",
    "Bölme (/)\n",
    "Üs Alma (**)\n",
    "Mod Alma (%)\n",
    "Tam Bölme (//)"
   ]
  },
  {
   "cell_type": "code",
   "execution_count": null,
   "metadata": {},
   "outputs": [],
   "source": [
    "a = 4\n",
    "b =3\n"
   ]
  },
  {
   "cell_type": "code",
   "execution_count": null,
   "metadata": {},
   "outputs": [],
   "source": [
    "print(a + b)"
   ]
  },
  {
   "cell_type": "code",
   "execution_count": null,
   "metadata": {},
   "outputs": [],
   "source": [
    "print (a*b)"
   ]
  },
  {
   "cell_type": "markdown",
   "metadata": {},
   "source": [
    "# String\n",
    "- Metinsel ifadelerdir\n",
    "- \" \", '', \"\"\" \"\"\" arasına yazılması gerekir\n",
    "- Hangi tırnak ile başlandıysa o tırnak ile kapatılması gerekir\n",
    "- İndex ile ulaşma imkanı sağlar, mesela;"
   ]
  },
  {
   "cell_type": "code",
   "execution_count": null,
   "metadata": {},
   "outputs": [],
   "source": [
    "degisken = \"Merhaba Python\"\n",
    "print (degisken)"
   ]
  },
  {
   "cell_type": "code",
   "execution_count": null,
   "metadata": {},
   "outputs": [],
   "source": [
    "degisken = \"Python Öğreniyorum\"\n",
    "print(degiken)"
   ]
  },
  {
   "cell_type": "code",
   "execution_count": null,
   "metadata": {},
   "outputs": [],
   "source": [
    "print(degisken[0]) #0 den başlayıp sağa doğru gidiyor, -1 son oluyor"
   ]
  },
  {
   "cell_type": "code",
   "execution_count": null,
   "metadata": {},
   "outputs": [],
   "source": [
    "isim = \"tijda\"\n",
    "soyisim = \"kırmızıgül\"\n",
    "yas = 21\n",
    "print(isim + \" \" + soyisim )"
   ]
  },
  {
   "cell_type": "code",
   "execution_count": null,
   "metadata": {},
   "outputs": [],
   "source": [
    "isim = \"tijda\"\n",
    "soyisim = \"kırmızıgül\"\n",
    "yas = 21\n",
    "print(isim + \" \" + soyisim + \"\" yas) #integer ve stringi yan yana kullanamazsın"
   ]
  },
  {
   "cell_type": "code",
   "execution_count": null,
   "metadata": {},
   "outputs": [],
   "source": [
    "print (isim, \" \" , soyisim \" \", yas)"
   ]
  },
  {
   "cell_type": "code",
   "execution_count": null,
   "metadata": {},
   "outputs": [],
   "source": [
    "print(f\"{isim} {soyisim} {yas}\")"
   ]
  },
  {
   "cell_type": "markdown",
   "metadata": {},
   "source": [
    "# BOOLEAN\n",
    "-True ya da False değerini döndürür."
   ]
  },
  {
   "cell_type": "code",
   "execution_count": null,
   "metadata": {},
   "outputs": [],
   "source": [
    "canVarMi = True\n",
    "print(canVarMi)\n",
    "print(type(canVarMi))"
   ]
  },
  {
   "cell_type": "markdown",
   "metadata": {},
   "source": [
    "# input()\n",
    "-Kullanıcıdan veri girişi almamızı sağlar\n",
    "- input ile veri alınırken string gibi davranır bu yüzden input alırken sayı alacaksan int ya da float kullan"
   ]
  },
  {
   "cell_type": "code",
   "execution_count": null,
   "metadata": {},
   "outputs": [
    {
     "name": "stdout",
     "output_type": "stream",
     "text": [
      "Merhaba tijda\n",
      "Merhaba tijda\n",
      "Merhabatijda\n"
     ]
    }
   ],
   "source": [
    "isim = input(\"İsim Gir:\")\n",
    "print(f\"Merhaba {isim}\")\n",
    "print(\"Merhaba\" ,  isim)\n",
    "print(\"Merhaba\" + isim)"
   ]
  },
  {
   "cell_type": "code",
   "execution_count": null,
   "metadata": {},
   "outputs": [
    {
     "ename": "SyntaxError",
     "evalue": "invalid syntax. Perhaps you forgot a comma? (3393255445.py, line 1)",
     "output_type": "error",
     "traceback": [
      "\u001b[1;36m  Cell \u001b[1;32mIn[54], line 1\u001b[1;36m\u001b[0m\n\u001b[1;33m    sayi1 = input(Birinci sayıyı giriniz)\u001b[0m\n\u001b[1;37m                  ^\u001b[0m\n\u001b[1;31mSyntaxError\u001b[0m\u001b[1;31m:\u001b[0m invalid syntax. Perhaps you forgot a comma?\n"
     ]
    }
   ],
   "source": [
    "sayi1 = input(\"Birinci sayıyı giriniz\")\n",
    "sayi2 = input(\"İkinci sayıyı giriniz\")\n",
    "print (sayi1 + sayi2)"
   ]
  },
  {
   "cell_type": "code",
   "execution_count": null,
   "metadata": {},
   "outputs": [],
   "source": [
    "sayi1 = int(input(\"1. sayı :\"))\n",
    "sayi2 = int (input (\"2. sayı:\"))\n",
    "print(sayi1 + sayi2)"
   ]
  },
  {
   "cell_type": "code",
   "execution_count": null,
   "metadata": {},
   "outputs": [],
   "source": [
    "print (f\" {sayi1} + {sayi2} = {sayi1 + sayi2}\")"
   ]
  }
 ],
 "metadata": {
  "kernelspec": {
   "display_name": "Python 3",
   "language": "python",
   "name": "python3"
  },
  "language_info": {
   "codemirror_mode": {
    "name": "ipython",
    "version": 3
   },
   "file_extension": ".py",
   "mimetype": "text/x-python",
   "name": "python",
   "nbconvert_exporter": "python",
   "pygments_lexer": "ipython3",
   "version": "3.12.1"
  }
 },
 "nbformat": 4,
 "nbformat_minor": 2
}
